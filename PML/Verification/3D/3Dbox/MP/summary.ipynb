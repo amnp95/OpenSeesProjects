{
 "cells": [
  {
   "cell_type": "markdown",
   "metadata": {},
   "source": [
    "# 3D model for verification of PML elements\n",
    "in this model ce created a 3D box with :\n",
    "\n",
    "$X_{width} = 60~m$\n",
    "\n",
    "$Y_{width} = 60~m$\n",
    "\n",
    "$Z_{width} = 40~m$\n",
    "\n",
    "A uniform mesh with 5 meter mesh size used to construct the box. nataural frequncy of the box with fixed boundaries in all direction is about 1.5 Hz.  \n",
    "\n",
    "We apply a ricker wavelet point load at the center of the box. Here is the point load Time history and its fourier domain amplitude. The point load selected in with respect to the natural frequncy of the box. \n",
    " "
   ]
  },
  {
   "cell_type": "markdown",
   "metadata": {},
   "source": [
    "<table>\n",
    "  <tr>\n",
    "    <td>\n",
    "      <figure>\n",
    "        <img src=\"./figs/Loading.png\"  align=\"center\">\n",
    "        <figcaption style=\"font-size: larger;\"> Time history</figcaption>\n",
    "      </figure>\n",
    "    </td>\n",
    "    <td>&nbsp;</td>\n",
    "    <td>\n",
    "      <figure>\n",
    "        <img src=\"./figs/LoadingFFT.png\"  align=\"center\">\n",
    "        <figcaption style=\"font-size: larger;\"> frequency domain</figcaption>\n",
    "      </figure>\n",
    "    </td>\n",
    "  </tr>\n",
    "</table>"
   ]
  },
  {
   "cell_type": "markdown",
   "metadata": {},
   "source": [
    "We do the analysis one time with fixed boundaries and another time with adding 2 layer of PML elements around the box. Below is the plot showing the comaprison. We see that using the fixed boundaries cause outgoing waves reflect to the center node. Uisng the PML elements decrease the reflecting waves effectively. \n",
    "\n",
    "**Note:** adding PML layers from 2 to 4 didn't improve the result."
   ]
  },
  {
   "cell_type": "markdown",
   "metadata": {},
   "source": [
    "<table>\n",
    "  <tr>\n",
    "    <td>\n",
    "      <figure>\n",
    "        <img src=\"./figs/centerNodedisplacment.png\"  align=\"center\">\n",
    "        <figcaption style=\"font-size: larger;\"> Time history</figcaption>\n",
    "      </figure>\n",
    "    </td>\n",
    "</table>"
   ]
  },
  {
   "cell_type": "markdown",
   "metadata": {},
   "source": []
  }
 ],
 "metadata": {
  "language_info": {
   "name": "python"
  }
 },
 "nbformat": 4,
 "nbformat_minor": 2
}
