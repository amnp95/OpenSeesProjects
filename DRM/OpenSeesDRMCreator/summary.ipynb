{
 "cells": [
  {
   "cell_type": "markdown",
   "metadata": {},
   "source": [
    "# OpenSees DRM load creator\n",
    "This project is a H5DRMcreator.py file which creates a DRM loading file for OpenSees. \n",
    "\n",
    "The input files for the function are acc.txt, disp.txt and corrds.txt and vel.txt. \n",
    "\n",
    "**Note:**\n",
    "Velocity file is not necassary and can be zero. "
   ]
  }
 ],
 "metadata": {
  "language_info": {
   "name": "python"
  }
 },
 "nbformat": 4,
 "nbformat_minor": 2
}
