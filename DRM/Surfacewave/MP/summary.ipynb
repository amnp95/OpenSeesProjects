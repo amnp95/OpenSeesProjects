{
 "cells": [
  {
   "cell_type": "markdown",
   "metadata": {},
   "source": [
    "# Surface wave verification problem using multiple processors and using rayleigh damping\n",
    "\n",
    "The aim of this project is to construct another version of the surface wave verification problem but using multiple processors and to decrease the runtime and also see the effect adding pml layers and also add rayleigh damping to the regular domain and compare results. "
   ]
  },
  {
   "cell_type": "markdown",
   "metadata": {},
   "source": [
    "In the first step we just trying to reapet the results for doing the surface wave problem using 2 layer of PML and then 5 layer of element. In these models we used PMLVISCOUS version with 5 percent of rayleigh damping in the PML domain and no damping for the regualr domain. For schematic of the problem plase refer to the single folder under the Surface wave problem directory. \n",
    "\n",
    "##  2 layer of PMLVISOUS around the box \n",
    "<table>\n",
    "  <tr>\n",
    "    <td>\n",
    "      <figure>\n",
    "        <img src=\"./figs/PML_2_layer_Disp_P1_p3.png\"  align=\"center\">\n",
    "        <figcaption style=\"font-size: larger;\"> Displacments for p1 p2 and p3</figcaption>\n",
    "      </figure>\n",
    "    </td>\n",
    "    <td>&nbsp;</td>\n",
    "    <td>\n",
    "      <figure>\n",
    "        <img src=\"./figs/PML_2_layer_Disp_P4_p5.png\"  align=\"center\">\n",
    "        <figcaption style=\"font-size: larger;\"> Displacments for P4 p5 and p6</figcaption>\n",
    "      </figure>\n",
    "    </td>\n",
    "  </tr>\n",
    "</table>\n",
    "\n",
    "<table>\n",
    "  <tr>\n",
    "    <td>\n",
    "      <figure>\n",
    "        <img src=\"./figs/PML_2_layer_Accl_P1_p3.png\"  align=\"center\">\n",
    "        <figcaption style=\"font-size: larger;\"> Accelerations for p1 p2 and p3</figcaption>\n",
    "      </figure>\n",
    "    </td>\n",
    "    <td>&nbsp;</td>\n",
    "    <td>\n",
    "      <figure>\n",
    "        <img src=\"./figs/PML_2_layer_Accl_P4_p6.png\"  align=\"center\">\n",
    "        <figcaption style=\"font-size: larger;\">Accelerations for P4 p5 and p6</figcaption>\n",
    "      </figure>\n",
    "    </td>\n",
    "  </tr>\n",
    "</table>"
   ]
  },
  {
   "cell_type": "markdown",
   "metadata": {},
   "source": [
    "##  5 layer of PMLVISOUS around the box \n",
    "<table>\n",
    "  <tr>\n",
    "    <td>\n",
    "      <figure>\n",
    "        <img src=\"./figs/PML_5_layer_Displacment_p1_p3.png\"  align=\"center\">\n",
    "        <figcaption style=\"font-size: larger;\"> Displacments for p1 p2 and p3</figcaption>\n",
    "      </figure>\n",
    "    </td>\n",
    "    <td>&nbsp;</td>\n",
    "    <td>\n",
    "      <figure>\n",
    "        <img src=\"./figs/PML_5_layer_Displacment_p4_p6.png\"  align=\"center\">\n",
    "        <figcaption style=\"font-size: larger;\"> Displacments for P4 p5 and p6</figcaption>\n",
    "      </figure>\n",
    "    </td>\n",
    "  </tr>\n",
    "</table>\n",
    "\n",
    "<table>\n",
    "  <tr>\n",
    "    <td>\n",
    "      <figure>\n",
    "        <img src=\"./figs/PML_5_layer_Acceleration_p1_p3.png\"  align=\"center\">\n",
    "        <figcaption style=\"font-size: larger;\"> Accelerations for p1 p2 and p3</figcaption>\n",
    "      </figure>\n",
    "    </td>\n",
    "    <td>&nbsp;</td>\n",
    "    <td>\n",
    "      <figure>\n",
    "        <img src=\"./figs/PML_5_layer_Acceleration_p4_p6.png\"  align=\"center\">\n",
    "        <figcaption style=\"font-size: larger;\">Accelerations for P4 p5 and p6</figcaption>\n",
    "      </figure>\n",
    "    </td>\n",
    "  </tr>\n",
    "</table>"
   ]
  },
  {
   "cell_type": "markdown",
   "metadata": {},
   "source": [
    "Compring the Dispalcements and accelerations using the 2 layer and 5 layer of the pml shows that dipplacments match with analytical soultions for both models but comapring accelarations we found that accelarations using 5 layer of PML elements around have less high frequncy noises around the baseline which is match with the analytical soultions."
   ]
  },
  {
   "cell_type": "markdown",
   "metadata": {},
   "source": [
    "# Adding rayleigh damping to the regular domain "
   ]
  },
  {
   "cell_type": "markdown",
   "metadata": {},
   "source": [
    "Here in following  models we repaeted the same analysis on the regular domain under surfacewave DRM loading one with 2 Layer of PML elements aroun the box and one no PML layers around and fixed boundaries. The different is that we add same 5% rayleigh damping to the regular domain. "
   ]
  },
  {
   "cell_type": "markdown",
   "metadata": {},
   "source": [
    "## fixed boundaries with 5 percent rayleigh in regular domain\n",
    "<table>\n",
    "  <tr>\n",
    "    <td>\n",
    "      <figure>\n",
    "        <img src=\"./figs/fixed_with_rayleigh_Displacment_p1_p3.png\"  align=\"center\">\n",
    "        <figcaption style=\"font-size: larger;\"> Displacments for p1 p2 and p3</figcaption>\n",
    "      </figure>\n",
    "    </td>\n",
    "    <td>&nbsp;</td>\n",
    "    <td>\n",
    "      <figure>\n",
    "        <img src=\"./figs/fixed_with_rayleigh_Displacment_p4_p6.png\"  align=\"center\">\n",
    "        <figcaption style=\"font-size: larger;\"> Displacments for P4 p5 and p6</figcaption>\n",
    "      </figure>\n",
    "    </td>\n",
    "  </tr>\n",
    "</table>\n",
    "\n",
    "<table>\n",
    "  <tr>\n",
    "    <td>\n",
    "      <figure>\n",
    "        <img src=\"./figs/fixed_with_rayleigh_Acceleration_p1_p3.png\"  align=\"center\">\n",
    "        <figcaption style=\"font-size: larger;\"> Accelerations for p1 p2 and p3</figcaption>\n",
    "      </figure>\n",
    "    </td>\n",
    "    <td>&nbsp;</td>\n",
    "    <td>\n",
    "      <figure>\n",
    "        <img src=\"./figs/fixed_with_rayleigh_Acceleration_p1_p3.png\"  align=\"center\">\n",
    "        <figcaption style=\"font-size: larger;\">Accelerations for P4 p5 and p6</figcaption>\n",
    "      </figure>\n",
    "    </td>\n",
    "  </tr>\n",
    "</table>"
   ]
  },
  {
   "cell_type": "markdown",
   "metadata": {},
   "source": [
    "## 2 Layer of PMLVISCOUS with rayleigh damping in regular domain\n",
    "## fixed boundaries with 5 percent rayleigh in regular domain\n",
    "<table>\n",
    "  <tr>\n",
    "    <td>\n",
    "      <figure>\n",
    "        <img src=\"./figs/PML_2_layer_rayleighy_Displacment_p1_p3.png\"  align=\"center\">\n",
    "        <figcaption style=\"font-size: larger;\"> Displacments for p1 p2 and p3</figcaption>\n",
    "      </figure>\n",
    "    </td>\n",
    "    <td>&nbsp;</td>\n",
    "    <td>\n",
    "      <figure>\n",
    "        <img src=\"./figs/PML_2_layer_rayleighy_Displacment_p4_p6.png\"  align=\"center\">\n",
    "        <figcaption style=\"font-size: larger;\"> Displacments for P4 p5 and p6</figcaption>\n",
    "      </figure>\n",
    "    </td>\n",
    "  </tr>\n",
    "</table>\n",
    "\n",
    "<table>\n",
    "  <tr>\n",
    "    <td>\n",
    "      <figure>\n",
    "        <img src=\"./figs/PML_2_layer_rayleighy_Acceleration_p1_p3.png\"  align=\"center\">\n",
    "        <figcaption style=\"font-size: larger;\"> Accelerations for p1 p2 and p3</figcaption>\n",
    "      </figure>\n",
    "    </td>\n",
    "    <td>&nbsp;</td>\n",
    "    <td>\n",
    "      <figure>\n",
    "        <img src=\"./figs/PML_2_layer_rayleighy_Acceleration_p4_p6.png\"  align=\"center\">\n",
    "        <figcaption style=\"font-size: larger;\">Accelerations for P4 p5 and p6</figcaption>\n",
    "      </figure>\n",
    "    </td>\n",
    "  </tr>\n",
    "</table>"
   ]
  },
  {
   "cell_type": "markdown",
   "metadata": {},
   "source": []
  }
 ],
 "metadata": {
  "language_info": {
   "name": "python"
  }
 },
 "nbformat": 4,
 "nbformat_minor": 2
}
