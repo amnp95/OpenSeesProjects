{
 "cells": [
  {
   "cell_type": "markdown",
   "metadata": {},
   "source": [
    "# Surface proseesor model\n",
    "\n",
    "In this project A 3D representation model of 2D Problem is constructed and effectivness of using the PML elements were investigated. \n",
    "\n",
    "Here is the Schematic of the problem :\n",
    "\n",
    "\n",
    "![Schematic Diagram](./figs/schematic.png)\n"
   ]
  },
  {
   "cell_type": "markdown",
   "metadata": {},
   "source": [
    "Which $L_1 = 90~m$,  $H_{RD} = 40~m$, $L_{PML} = 5~m$. \n",
    "A 3D representation of a 2D model constructed assuming  $15 m$ for the out of space dimension. \n",
    "\n",
    "Here is the mesh created using the uniform mesh spacing with mesh size $2.5~m$\n",
    "\n",
    "![Mesh used](./figs/mesh.png)"
   ]
  },
  {
   "cell_type": "markdown",
   "metadata": {},
   "source": [
    "First we run the model with fixed boundaries and here is the Dispalcement plots. \n",
    "\n",
    "![fixed disp p1 to p3](./figs/fixed_Displacment_p1_p3.png)\n",
    "![fixed disp p4 to p6](./figs/fixed_Displacment_p4_p6.png)\n"
   ]
  },
  {
   "cell_type": "markdown",
   "metadata": {},
   "source": [
    "even without using the pml it seems that the displacments are good but some oscilations on the points p4 to p6 in x direction still can be observed.\n",
    "\n",
    "Here are the accelartion time histories for the control points.\n",
    "\n",
    "\n",
    "![acelration fixed p1 to p3](./figs/fixed_Acceleration_p1_p3.png)\n",
    "![acelration fixed p1 to p3](./figs/fixed_Acceleration_p4_p6.png)"
   ]
  },
  {
   "cell_type": "markdown",
   "metadata": {},
   "source": [
    "but the acceleartion time histories for numerical simulation show more noise and oscilation. "
   ]
  },
  {
   "cell_type": "markdown",
   "metadata": {},
   "source": [
    "## Model using PML elements\n",
    "\n",
    "In order to improve the results 2 layer of pml viscous element added to our numerical model to investigate the effect. \n",
    "Damping used for PML element is 5 percent damping for target frequencies 20 Hz and 0.2 Hz. \n",
    "\n",
    "\n",
    "\n",
    "Comapring the time histrory of displacment for the control points show that little oscilations on the displacments goes away using PML viscous elements. Here are the results:\n",
    "\n",
    "![PML disp p1 to p3](./figs/PML_Displacment_p1_p3.png)\n",
    "![PML disp p1 to p3](./figs/PML_Displacment_p4_p6.png)\n"
   ]
  },
  {
   "cell_type": "markdown",
   "metadata": {},
   "source": [
    "comparing the accelartions shows that still there are some noises and oscilations around the base line but a good improvment obtained for accelarations using PML viscous elements. \n",
    "\n",
    "![acc PML p1 to p3](./figs/PML_Acceleration_p1_p3.png)\n",
    "![acc PML p4 to p6](./figs/PML_Acceleration_p4_p6.png)\n",
    "\n"
   ]
  },
  {
   "cell_type": "markdown",
   "metadata": {},
   "source": []
  }
 ],
 "metadata": {
  "language_info": {
   "name": "python"
  }
 },
 "nbformat": 4,
 "nbformat_minor": 2
}
